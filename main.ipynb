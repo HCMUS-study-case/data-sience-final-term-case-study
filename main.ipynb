{
 "cells": [
  {
   "cell_type": "markdown",
   "metadata": {},
   "source": [
    "# HCMUS case study - Introduction to Data Science Final Term\n",
    "\n",
    "## Member\n",
    "1. Nguyễn Phú Tân - 20120573\n",
    "2. Nguyễn Lê Tuấn Khải - 20120503\n",
    "3. Nguyễn Minh Quân - 20120554\n",
    "4. Nguyễn Đình Phong - 20120546\n",
    "\n",
    "## Study Topic\n",
    "Predicting the stock price of ASIA PACIFIC INVESTMENT in Hanoi Stock Exchange (API:HNX)\n",
    "\n",
    "***Data Collection***"
   ]
  },
  {
   "cell_type": "markdown",
   "metadata": {},
   "source": [
    "Activate scrawl in the cell below to download the data from the website. The data is stored in the folder `dataset` in the same directory as this notebook."
   ]
  },
  {
   "cell_type": "code",
   "execution_count": 2,
   "metadata": {},
   "outputs": [
    {
     "name": "stdout",
     "output_type": "stream",
     "text": [
      "Done!\n"
     ]
    }
   ],
   "source": [
    "# Uncomment the following line to scrape the data from the web\n",
    "\n",
    "# !cd stock_scraping && \\\n",
    "#     scrapy crawl historical_quotes -o ../dataset/historical_quotes.json && \\\n",
    "#     scrapy crawl trading_statistics -o ../dataset/trading_statistics.json && \\\n",
    "#     scrapy crawl insider_actions -o ../dataset/insider_actions.json\n",
    "\n",
    "print(\"Done!\")"
   ]
  }
 ],
 "metadata": {
  "kernelspec": {
   "display_name": "Python 3.10.6 ('venv': venv)",
   "language": "python",
   "name": "python3"
  },
  "language_info": {
   "codemirror_mode": {
    "name": "ipython",
    "version": 3
   },
   "file_extension": ".py",
   "mimetype": "text/x-python",
   "name": "python",
   "nbconvert_exporter": "python",
   "pygments_lexer": "ipython3",
   "version": "3.10.6"
  },
  "orig_nbformat": 4,
  "vscode": {
   "interpreter": {
    "hash": "e14bb51945125e062597b1a45e04d5e93d5a93d680c017969ed2e9ffc22a3c3f"
   }
  }
 },
 "nbformat": 4,
 "nbformat_minor": 2
}
