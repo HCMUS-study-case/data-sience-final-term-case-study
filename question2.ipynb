{
 "cells": [
  {
   "cell_type": "code",
   "execution_count": 8,
   "metadata": {},
   "outputs": [],
   "source": [
    "import numpy as np\n",
    "import pandas as pd\n",
    "import datetime\n",
    "import matplotlib.pyplot as plt"
   ]
  },
  {
   "cell_type": "markdown",
   "metadata": {},
   "source": [
    "### Câu hỏi: Tháng nào có lượng giao dịch trong nội bộ cao nhất (tức là các cổ đông lớn có xu hướng bán tháo và đầu cơ cổ phiếu) sẽ làm cho giá cổ phiếu giảm\n",
    "Trả lời được câu hỏi này sẽ giúp chúng ta có thể suy đoán được vào thời điểm nào trong năm giá cổ phiếu sẽ có xu hướng giảm -> bắt đáy cho năm sau"
   ]
  },
  {
   "cell_type": "code",
   "execution_count": 3,
   "metadata": {},
   "outputs": [
    {
     "data": {
      "text/html": [
       "<div>\n",
       "<style scoped>\n",
       "    .dataframe tbody tr th:only-of-type {\n",
       "        vertical-align: middle;\n",
       "    }\n",
       "\n",
       "    .dataframe tbody tr th {\n",
       "        vertical-align: top;\n",
       "    }\n",
       "\n",
       "    .dataframe thead th {\n",
       "        text-align: right;\n",
       "    }\n",
       "</style>\n",
       "<table border=\"1\" class=\"dataframe\">\n",
       "  <thead>\n",
       "    <tr style=\"text-align: right;\">\n",
       "      <th></th>\n",
       "      <th>date</th>\n",
       "      <th>shareholder</th>\n",
       "      <th>shareholder position</th>\n",
       "      <th>trading type</th>\n",
       "      <th>shares</th>\n",
       "    </tr>\n",
       "  </thead>\n",
       "  <tbody>\n",
       "    <tr>\n",
       "      <th>0</th>\n",
       "      <td>2022-09-05</td>\n",
       "      <td>Nguyễn Thu Phương</td>\n",
       "      <td>Khác</td>\n",
       "      <td>Bán</td>\n",
       "      <td>359500</td>\n",
       "    </tr>\n",
       "    <tr>\n",
       "      <th>1</th>\n",
       "      <td>2022-08-31</td>\n",
       "      <td>Nguyễn Thu Phương</td>\n",
       "      <td>Khác</td>\n",
       "      <td>Bán</td>\n",
       "      <td>615800</td>\n",
       "    </tr>\n",
       "    <tr>\n",
       "      <th>2</th>\n",
       "      <td>2022-06-29</td>\n",
       "      <td>Nguyễn Thị Bổn</td>\n",
       "      <td>Khác</td>\n",
       "      <td>Bán</td>\n",
       "      <td>966100</td>\n",
       "    </tr>\n",
       "    <tr>\n",
       "      <th>3</th>\n",
       "      <td>2022-06-20</td>\n",
       "      <td>Nguyễn Thị Bổn</td>\n",
       "      <td>Khác</td>\n",
       "      <td>Đăng ký bán</td>\n",
       "      <td>966100</td>\n",
       "    </tr>\n",
       "    <tr>\n",
       "      <th>4</th>\n",
       "      <td>2022-05-30</td>\n",
       "      <td>Hồ Xuân Vinh</td>\n",
       "      <td>Thành viên HĐQT</td>\n",
       "      <td>Mua</td>\n",
       "      <td>100000</td>\n",
       "    </tr>\n",
       "    <tr>\n",
       "      <th>5</th>\n",
       "      <td>2022-05-25</td>\n",
       "      <td>Nguyễn Thị Thanh</td>\n",
       "      <td>Chủ tịch HĐQT</td>\n",
       "      <td>Mua</td>\n",
       "      <td>100000</td>\n",
       "    </tr>\n",
       "    <tr>\n",
       "      <th>6</th>\n",
       "      <td>2022-05-05</td>\n",
       "      <td>Hồ Xuân Vinh</td>\n",
       "      <td>Thành viên HĐQT</td>\n",
       "      <td>Đăng ký mua</td>\n",
       "      <td>100000</td>\n",
       "    </tr>\n",
       "    <tr>\n",
       "      <th>7</th>\n",
       "      <td>2022-04-27</td>\n",
       "      <td>Nguyễn Thị Thanh</td>\n",
       "      <td>Chủ tịch HĐQT</td>\n",
       "      <td>Đăng ký mua</td>\n",
       "      <td>100000</td>\n",
       "    </tr>\n",
       "    <tr>\n",
       "      <th>8</th>\n",
       "      <td>2021-11-19</td>\n",
       "      <td>CTCP Đầu tư Châu Á - Thái Bình Dương</td>\n",
       "      <td>Khác</td>\n",
       "      <td>Bán</td>\n",
       "      <td>1000000</td>\n",
       "    </tr>\n",
       "    <tr>\n",
       "      <th>9</th>\n",
       "      <td>2021-11-02</td>\n",
       "      <td>CTCP Đầu tư Châu Á - Thái Bình Dương</td>\n",
       "      <td>Khác</td>\n",
       "      <td>Đăng ký bán</td>\n",
       "      <td>1000000</td>\n",
       "    </tr>\n",
       "  </tbody>\n",
       "</table>\n",
       "</div>"
      ],
      "text/plain": [
       "        date                           shareholder shareholder position  \\\n",
       "0 2022-09-05                     Nguyễn Thu Phương                 Khác   \n",
       "1 2022-08-31                     Nguyễn Thu Phương                 Khác   \n",
       "2 2022-06-29                        Nguyễn Thị Bổn                 Khác   \n",
       "3 2022-06-20                        Nguyễn Thị Bổn                 Khác   \n",
       "4 2022-05-30                          Hồ Xuân Vinh      Thành viên HĐQT   \n",
       "5 2022-05-25                      Nguyễn Thị Thanh        Chủ tịch HĐQT   \n",
       "6 2022-05-05                          Hồ Xuân Vinh      Thành viên HĐQT   \n",
       "7 2022-04-27                      Nguyễn Thị Thanh        Chủ tịch HĐQT   \n",
       "8 2021-11-19  CTCP Đầu tư Châu Á - Thái Bình Dương                 Khác   \n",
       "9 2021-11-02  CTCP Đầu tư Châu Á - Thái Bình Dương                 Khác   \n",
       "\n",
       "  trading type   shares  \n",
       "0          Bán   359500  \n",
       "1          Bán   615800  \n",
       "2          Bán   966100  \n",
       "3  Đăng ký bán   966100  \n",
       "4          Mua   100000  \n",
       "5          Mua   100000  \n",
       "6  Đăng ký mua   100000  \n",
       "7  Đăng ký mua   100000  \n",
       "8          Bán  1000000  \n",
       "9  Đăng ký bán  1000000  "
      ]
     },
     "execution_count": 3,
     "metadata": {},
     "output_type": "execute_result"
    }
   ],
   "source": [
    "df_insider=pd.read_csv(\"data-csv/insider_actions.csv\", index_col=0)\n",
    "df_insider['date']=pd.to_datetime(df_insider['date'],format='%Y-%m-%d')\n",
    "df_insider.head(10)"
   ]
  },
  {
   "cell_type": "markdown",
   "metadata": {},
   "source": [
    "Lấy dữ liệu từ 1/1/2022 đến ngày hiện tại"
   ]
  },
  {
   "cell_type": "code",
   "execution_count": 5,
   "metadata": {},
   "outputs": [
    {
     "data": {
      "text/html": [
       "<div>\n",
       "<style scoped>\n",
       "    .dataframe tbody tr th:only-of-type {\n",
       "        vertical-align: middle;\n",
       "    }\n",
       "\n",
       "    .dataframe tbody tr th {\n",
       "        vertical-align: top;\n",
       "    }\n",
       "\n",
       "    .dataframe thead th {\n",
       "        text-align: right;\n",
       "    }\n",
       "</style>\n",
       "<table border=\"1\" class=\"dataframe\">\n",
       "  <thead>\n",
       "    <tr style=\"text-align: right;\">\n",
       "      <th></th>\n",
       "      <th>date</th>\n",
       "      <th>shareholder</th>\n",
       "      <th>shareholder position</th>\n",
       "      <th>trading type</th>\n",
       "      <th>shares</th>\n",
       "    </tr>\n",
       "  </thead>\n",
       "  <tbody>\n",
       "    <tr>\n",
       "      <th>0</th>\n",
       "      <td>2022-09-05</td>\n",
       "      <td>Nguyễn Thu Phương</td>\n",
       "      <td>Khác</td>\n",
       "      <td>Bán</td>\n",
       "      <td>359500</td>\n",
       "    </tr>\n",
       "    <tr>\n",
       "      <th>1</th>\n",
       "      <td>2022-08-31</td>\n",
       "      <td>Nguyễn Thu Phương</td>\n",
       "      <td>Khác</td>\n",
       "      <td>Bán</td>\n",
       "      <td>615800</td>\n",
       "    </tr>\n",
       "    <tr>\n",
       "      <th>2</th>\n",
       "      <td>2022-06-29</td>\n",
       "      <td>Nguyễn Thị Bổn</td>\n",
       "      <td>Khác</td>\n",
       "      <td>Bán</td>\n",
       "      <td>966100</td>\n",
       "    </tr>\n",
       "    <tr>\n",
       "      <th>3</th>\n",
       "      <td>2022-06-20</td>\n",
       "      <td>Nguyễn Thị Bổn</td>\n",
       "      <td>Khác</td>\n",
       "      <td>Đăng ký bán</td>\n",
       "      <td>966100</td>\n",
       "    </tr>\n",
       "    <tr>\n",
       "      <th>4</th>\n",
       "      <td>2022-05-30</td>\n",
       "      <td>Hồ Xuân Vinh</td>\n",
       "      <td>Thành viên HĐQT</td>\n",
       "      <td>Mua</td>\n",
       "      <td>100000</td>\n",
       "    </tr>\n",
       "    <tr>\n",
       "      <th>5</th>\n",
       "      <td>2022-05-25</td>\n",
       "      <td>Nguyễn Thị Thanh</td>\n",
       "      <td>Chủ tịch HĐQT</td>\n",
       "      <td>Mua</td>\n",
       "      <td>100000</td>\n",
       "    </tr>\n",
       "    <tr>\n",
       "      <th>6</th>\n",
       "      <td>2022-05-05</td>\n",
       "      <td>Hồ Xuân Vinh</td>\n",
       "      <td>Thành viên HĐQT</td>\n",
       "      <td>Đăng ký mua</td>\n",
       "      <td>100000</td>\n",
       "    </tr>\n",
       "    <tr>\n",
       "      <th>7</th>\n",
       "      <td>2022-04-27</td>\n",
       "      <td>Nguyễn Thị Thanh</td>\n",
       "      <td>Chủ tịch HĐQT</td>\n",
       "      <td>Đăng ký mua</td>\n",
       "      <td>100000</td>\n",
       "    </tr>\n",
       "  </tbody>\n",
       "</table>\n",
       "</div>"
      ],
      "text/plain": [
       "        date        shareholder shareholder position trading type  shares\n",
       "0 2022-09-05  Nguyễn Thu Phương                 Khác          Bán  359500\n",
       "1 2022-08-31  Nguyễn Thu Phương                 Khác          Bán  615800\n",
       "2 2022-06-29     Nguyễn Thị Bổn                 Khác          Bán  966100\n",
       "3 2022-06-20     Nguyễn Thị Bổn                 Khác  Đăng ký bán  966100\n",
       "4 2022-05-30       Hồ Xuân Vinh      Thành viên HĐQT          Mua  100000\n",
       "5 2022-05-25   Nguyễn Thị Thanh        Chủ tịch HĐQT          Mua  100000\n",
       "6 2022-05-05       Hồ Xuân Vinh      Thành viên HĐQT  Đăng ký mua  100000\n",
       "7 2022-04-27   Nguyễn Thị Thanh        Chủ tịch HĐQT  Đăng ký mua  100000"
      ]
     },
     "execution_count": 5,
     "metadata": {},
     "output_type": "execute_result"
    }
   ],
   "source": [
    "first_day = np.datetime64(\"2022-01-01\")\n",
    "today = np.datetime64('today', 'D')\n",
    "df_insider_ques = df_insider[df_insider['date'].between(first_day, today)]\n",
    "df_insider_ques.head(10)"
   ]
  },
  {
   "cell_type": "markdown",
   "metadata": {},
   "source": [
    "Hàm hỗ trợ lấy ngày đầu tiên, và ngày cuối cùng của 1 tháng"
   ]
  },
  {
   "cell_type": "code",
   "execution_count": 6,
   "metadata": {},
   "outputs": [],
   "source": [
    "def getFirstLastDate(month):\n",
    "    if month==1 or month ==3 or month == 5 or month == 7 or month == 8 or month == 10 or month == 12:\n",
    "        last = 31\n",
    "    elif month == 2:\n",
    "        last = 28\n",
    "    else:\n",
    "        last = 30\n",
    "    \n",
    "    if month < 10:\n",
    "        first_day_of_month = np.datetime64(\"2022-0{}-01\".format(month))\n",
    "        last_day_of_month = np.datetime64(\"2022-0{}-{}\".format(month,last))\n",
    "    else:\n",
    "        first_day_of_month = np.datetime64(\"2022-{}-01\".format(month))\n",
    "        last_day_of_month = np.datetime64(\"2022-{}-{}\".format(month,last))\n",
    "    tuple_day = (first_day_of_month, last_day_of_month)\n",
    "    return tuple_day"
   ]
  },
  {
   "cell_type": "markdown",
   "metadata": {},
   "source": [
    "Tìm tháng nào có lượng bán cổ phiếu nhiều nhất"
   ]
  },
  {
   "cell_type": "code",
   "execution_count": 11,
   "metadata": {},
   "outputs": [],
   "source": [
    "month = []\n",
    "sell_month = []\n",
    "share = df_insider_ques[\"shares\"]\n",
    "date_array = df_insider_ques[\"date\"]\n",
    "\n",
    "current_month = 1\n",
    "\n",
    "while(current_month <= 12):\n",
    "    month.append(current_month)\n",
    "    tuple_day = getFirstLastDate(current_month)\n",
    "    sub_df_insider_ques = df_insider_ques[df_insider_ques['date'].between(tuple_day[0], tuple_day[1])]\n",
    "    share_sum = sum(sub_df_insider_ques[\"shares\"])\n",
    "    sell_month.append(share_sum)\n",
    "    current_month+=1"
   ]
  },
  {
   "cell_type": "code",
   "execution_count": 16,
   "metadata": {},
   "outputs": [
    {
     "data": {
      "image/png": "[encoded data removed]",
      "text/plain": [
       "<Figure size 640x480 with 1 Axes>"
      ]
     },
     "metadata": {},
     "output_type": "display_data"
    }
   ],
   "source": [
    "plt.plot(month, sell_month)\n",
    "plt.xlabel(\"Tháng\")\n",
    "plt.ylabel(\"Lượng cổ phiếu giao dịch\")\n",
    "plt.title(\"Lượng giao dịch nội bộ trong năm 2022\")\n",
    "plt.show()"
   ]
  },
  {
   "attachments": {},
   "cell_type": "markdown",
   "metadata": {},
   "source": [
    "Qua đồ thị trên, ta có thể rút ra vài nhận xét:\n",
    "- Giai đoạn đầu năm (tháng 1 - tháng 3) lượng giao dịch cổ phiếu = 0. Điều này có thể lý giải bằng việc giai đoạn này là cận Tết và sau Tết, thị trường chứng khoán không sôi động\n",
    "- Đồ thị đạt đỉnh ở tháng 6, đây là thời điểm giữa năm, nên lượng giao dịch sẽ rất lớn\n",
    "- Tháng 8 trở đi, lượng giao dịch nội bộ bắt đầu giảm, có vẻ vì đây cũng là thời điểm cuối năm dương lịch, thị trường đi xuống."
   ]
  },
  {
   "cell_type": "code",
   "execution_count": null,
   "metadata": {},
   "outputs": [],
   "source": []
  }
 ],
 "metadata": {
  "kernelspec": {
   "display_name": "Python 3 (ipykernel)",
   "language": "python",
   "name": "python3"
  },
  "language_info": {
   "codemirror_mode": {
    "name": "ipython",
    "version": 3
   },
   "file_extension": ".py",
   "mimetype": "text/x-python",
   "name": "python",
   "nbconvert_exporter": "python",
   "pygments_lexer": "ipython3",
   "version": "3.9.13"
  },
  "vscode": {
   "interpreter": {
    "hash": "78552eb13ccfde371b68d0b4b2a5c0d8ac3efbbc7db6370daf92d859fc069112"
   }
  }
 },
 "nbformat": 4,
 "nbformat_minor": 2
}
