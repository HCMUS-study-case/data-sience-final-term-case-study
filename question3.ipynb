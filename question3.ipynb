{
 "cells": [
  {
   "cell_type": "code",
   "execution_count": 3,
   "metadata": {},
   "outputs": [],
   "source": [
    "import numpy as np\n",
    "import pandas as pd\n",
    "import matplotlib.pyplot as plt\n",
    "import seaborn as sns\n",
    "pd.options.display.float_format = '{:.2f}'.format"
   ]
  },
  {
   "cell_type": "markdown",
   "metadata": {},
   "source": [
    "# Question and answer"
   ]
  },
  {
   "cell_type": "markdown",
   "metadata": {},
   "source": [
    "## Câu hỏi: Lượng giao dịch cổ phiếu của những người không thuộc công ty và người thuộc công ty là như thế nào?\n",
    "+ Xem lượng mua cổ phiếu của người thuộc công ty và không thuộc công ty\n"
   ]
  },
  {
   "cell_type": "markdown",
   "metadata": {},
   "source": [
    "### 1: Đọc file \" data-csv/trading_statistics.csv \""
   ]
  },
  {
   "cell_type": "code",
   "execution_count": 11,
   "metadata": {},
   "outputs": [
    {
     "data": {
      "text/html": [
       "<div>\n",
       "<style scoped>\n",
       "    .dataframe tbody tr th:only-of-type {\n",
       "        vertical-align: middle;\n",
       "    }\n",
       "\n",
       "    .dataframe tbody tr th {\n",
       "        vertical-align: top;\n",
       "    }\n",
       "\n",
       "    .dataframe thead th {\n",
       "        text-align: right;\n",
       "    }\n",
       "</style>\n",
       "<table border=\"1\" class=\"dataframe\">\n",
       "  <thead>\n",
       "    <tr style=\"text-align: right;\">\n",
       "      <th></th>\n",
       "      <th>date</th>\n",
       "      <th>shareholder</th>\n",
       "      <th>shareholder position</th>\n",
       "      <th>trading type</th>\n",
       "      <th>shares</th>\n",
       "    </tr>\n",
       "  </thead>\n",
       "  <tbody>\n",
       "    <tr>\n",
       "      <th>0</th>\n",
       "      <td>05/09/2022</td>\n",
       "      <td>Nguyễn Thu Phương</td>\n",
       "      <td>None</td>\n",
       "      <td>Bán</td>\n",
       "      <td>359500</td>\n",
       "    </tr>\n",
       "    <tr>\n",
       "      <th>1</th>\n",
       "      <td>31/08/2022</td>\n",
       "      <td>Nguyễn Thu Phương</td>\n",
       "      <td>None</td>\n",
       "      <td>Bán</td>\n",
       "      <td>615800</td>\n",
       "    </tr>\n",
       "    <tr>\n",
       "      <th>2</th>\n",
       "      <td>29/06/2022</td>\n",
       "      <td>Nguyễn Thị Bổn</td>\n",
       "      <td>None</td>\n",
       "      <td>Bán</td>\n",
       "      <td>966100</td>\n",
       "    </tr>\n",
       "    <tr>\n",
       "      <th>3</th>\n",
       "      <td>20/06/2022</td>\n",
       "      <td>Nguyễn Thị Bổn</td>\n",
       "      <td>None</td>\n",
       "      <td>Đăng ký bán</td>\n",
       "      <td>966100</td>\n",
       "    </tr>\n",
       "    <tr>\n",
       "      <th>4</th>\n",
       "      <td>30/05/2022</td>\n",
       "      <td>Hồ Xuân Vinh</td>\n",
       "      <td>Thành viên HĐQT</td>\n",
       "      <td>Mua</td>\n",
       "      <td>100000</td>\n",
       "    </tr>\n",
       "    <tr>\n",
       "      <th>5</th>\n",
       "      <td>25/05/2022</td>\n",
       "      <td>Nguyễn Thị Thanh</td>\n",
       "      <td>Chủ tịch HĐQT</td>\n",
       "      <td>Mua</td>\n",
       "      <td>100000</td>\n",
       "    </tr>\n",
       "    <tr>\n",
       "      <th>6</th>\n",
       "      <td>05/05/2022</td>\n",
       "      <td>Hồ Xuân Vinh</td>\n",
       "      <td>Thành viên HĐQT</td>\n",
       "      <td>Đăng ký mua</td>\n",
       "      <td>100000</td>\n",
       "    </tr>\n",
       "    <tr>\n",
       "      <th>7</th>\n",
       "      <td>27/04/2022</td>\n",
       "      <td>Nguyễn Thị Thanh</td>\n",
       "      <td>Chủ tịch HĐQT</td>\n",
       "      <td>Đăng ký mua</td>\n",
       "      <td>100000</td>\n",
       "    </tr>\n",
       "    <tr>\n",
       "      <th>8</th>\n",
       "      <td>19/11/2021</td>\n",
       "      <td>CTCP Đầu tư Châu Á - Thái Bình Dương</td>\n",
       "      <td>None</td>\n",
       "      <td>Bán</td>\n",
       "      <td>1000000</td>\n",
       "    </tr>\n",
       "    <tr>\n",
       "      <th>9</th>\n",
       "      <td>02/11/2021</td>\n",
       "      <td>CTCP Đầu tư Châu Á - Thái Bình Dương</td>\n",
       "      <td>None</td>\n",
       "      <td>Đăng ký bán</td>\n",
       "      <td>1000000</td>\n",
       "    </tr>\n",
       "  </tbody>\n",
       "</table>\n",
       "</div>"
      ],
      "text/plain": [
       "         date                           shareholder shareholder position  \\\n",
       "0  05/09/2022                     Nguyễn Thu Phương                 None   \n",
       "1  31/08/2022                     Nguyễn Thu Phương                 None   \n",
       "2  29/06/2022                        Nguyễn Thị Bổn                 None   \n",
       "3  20/06/2022                        Nguyễn Thị Bổn                 None   \n",
       "4  30/05/2022                          Hồ Xuân Vinh      Thành viên HĐQT   \n",
       "5  25/05/2022                      Nguyễn Thị Thanh        Chủ tịch HĐQT   \n",
       "6  05/05/2022                          Hồ Xuân Vinh      Thành viên HĐQT   \n",
       "7  27/04/2022                      Nguyễn Thị Thanh        Chủ tịch HĐQT   \n",
       "8  19/11/2021  CTCP Đầu tư Châu Á - Thái Bình Dương                 None   \n",
       "9  02/11/2021  CTCP Đầu tư Châu Á - Thái Bình Dương                 None   \n",
       "\n",
       "  trading type   shares  \n",
       "0          Bán   359500  \n",
       "1          Bán   615800  \n",
       "2          Bán   966100  \n",
       "3  Đăng ký bán   966100  \n",
       "4          Mua   100000  \n",
       "5          Mua   100000  \n",
       "6  Đăng ký mua   100000  \n",
       "7  Đăng ký mua   100000  \n",
       "8          Bán  1000000  \n",
       "9  Đăng ký bán  1000000  "
      ]
     },
     "execution_count": 11,
     "metadata": {},
     "output_type": "execute_result"
    }
   ],
   "source": [
    "df=pd.read_json('dataset/insider_actions.json',keep_default_dates=False)\n",
    "df.head(10)"
   ]
  },
  {
   "cell_type": "markdown",
   "metadata": {},
   "source": [
    "### 2: Xử lý dữ liệu"
   ]
  },
  {
   "cell_type": "code",
   "execution_count": 6,
   "metadata": {},
   "outputs": [
    {
     "name": "stdout",
     "output_type": "stream",
     "text": [
      "<class 'pandas.core.frame.DataFrame'>\n",
      "RangeIndex: 148 entries, 0 to 147\n",
      "Data columns (total 6 columns):\n",
      " #   Column                Non-Null Count  Dtype \n",
      "---  ------                --------------  ----- \n",
      " 0   Unnamed: 0            148 non-null    int64 \n",
      " 1   date                  148 non-null    object\n",
      " 2   shareholder           148 non-null    object\n",
      " 3   shareholder position  148 non-null    object\n",
      " 4   trading type          148 non-null    object\n",
      " 5   shares                148 non-null    int64 \n",
      "dtypes: int64(2), object(4)\n",
      "memory usage: 7.1+ KB\n"
     ]
    }
   ],
   "source": [
    "df.info()"
   ]
  },
  {
   "cell_type": "markdown",
   "metadata": {},
   "source": [
    "Cột date có dạng object ta chuyển qua datetime64s"
   ]
  },
  {
   "cell_type": "code",
   "execution_count": 12,
   "metadata": {},
   "outputs": [],
   "source": [
    "df['date']=pd.to_datetime(df['date'],format='%d/%m/%Y')"
   ]
  },
  {
   "cell_type": "markdown",
   "metadata": {},
   "source": [
    "### Sự thay đổi giá cổ phiếu\n",
    "+ Lấy dữ liệu\n",
    "+ Trực quan dữ liệu"
   ]
  },
  {
   "cell_type": "markdown",
   "metadata": {},
   "source": [
    "Xem sự phân bố dữ liệu lượng cổ phiếu"
   ]
  },
  {
   "cell_type": "code",
   "execution_count": 13,
   "metadata": {},
   "outputs": [
    {
     "data": {
      "text/plain": [
       "<AxesSubplot:xlabel='shares', ylabel='Count'>"
      ]
     },
     "execution_count": 13,
     "metadata": {},
     "output_type": "execute_result"
    },
    {
     "data": {
      "image/png": "[encoded data removed]",
      "text/plain": [
       "<Figure size 640x480 with 1 Axes>"
      ]
     },
     "metadata": {},
     "output_type": "display_data"
    }
   ],
   "source": [
    "sns.histplot(df['shares'])"
   ]
  },
  {
   "cell_type": "markdown",
   "metadata": {},
   "source": [
    "Trực quan sự thay đổi giá cổ phiếu"
   ]
  },
  {
   "cell_type": "code",
   "execution_count": 14,
   "metadata": {},
   "outputs": [
    {
     "data": {
      "image/png": "[encoded data removed]",
      "text/plain": [
       "<Figure size 1200x500 with 1 Axes>"
      ]
     },
     "metadata": {},
     "output_type": "display_data"
    }
   ],
   "source": [
    "# Get none value in 'shareholder position' column\n",
    "outCompany = df[df['shareholder position'].isna()]\n",
    "# Get value not none in 'shareholder position' column\n",
    "inCompany = df[df['shareholder position'].notna()]\n",
    "# draw bar chart between sum of shares in none and not none value in 'shareholder position' column\n",
    "plt.figure(figsize=(12,5))\n",
    "plt.bar(['Out Company','In Company'],[outCompany['shares'].sum(),inCompany['shares'].sum()])\n",
    "\n",
    "for i, v in enumerate([outCompany['shares'].sum(),inCompany['shares'].sum()]):\n",
    "    plt.text(i - 0.08, v, str(v), color='black', fontweight='bold')\n",
    "\n",
    "\n",
    "plt.title('Shares in Company')\n",
    "plt.xlabel('Company')\n",
    "plt.ylabel('Shares')\n",
    "plt.show()"
   ]
  },
  {
   "cell_type": "markdown",
   "metadata": {},
   "source": [
    "Trả lời câu hỏi giúp ích cho chúng ta về biết được lưu lượng cổ phiếu được phân phát như thế nào đối với người không ở trong công ty và trong công ty"
   ]
  },
  {
   "cell_type": "markdown",
   "metadata": {},
   "source": [
    "Nhìn vào biểu đồ có thể thầy được lượng mua cổ phiếu của khách hàng ngoài công ty là nhiều hơn so với trong công ty"
   ]
  }
 ],
 "metadata": {
  "kernelspec": {
   "display_name": "Python 3 (ipykernel)",
   "language": "python",
   "name": "python3"
  },
  "language_info": {
   "codemirror_mode": {
    "name": "ipython",
    "version": 3
   },
   "file_extension": ".py",
   "mimetype": "text/x-python",
   "name": "python",
   "nbconvert_exporter": "python",
   "pygments_lexer": "ipython3",
   "version": "3.9.12"
  },
  "vscode": {
   "interpreter": {
    "hash": "a42ccb73e7d9bfdf27e036f1d2b8b681e55fc0743cc5586bc2474d4a60f4b886"
   }
  }
 },
 "nbformat": 4,
 "nbformat_minor": 2
}
